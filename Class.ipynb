{
  "nbformat": 4,
  "nbformat_minor": 0,
  "metadata": {
    "colab": {
      "provenance": [],
      "collapsed_sections": [],
      "authorship_tag": "ABX9TyOh6pewr1Rb3tAEptt2LIkB"
    },
    "kernelspec": {
      "name": "python3",
      "display_name": "Python 3"
    },
    "language_info": {
      "name": "python"
    }
  },
  "cells": [
    {
      "cell_type": "markdown",
      "source": [
        "**Задание 1**\n",
        "\n",
        "Напишите функцию, которая возвращает название валюты (поле ‘Name’) с максимальным значением курса с помощью сервиса https://www.cbr-xml-daily.ru/daily_json.js\n"
      ],
      "metadata": {
        "id": "zpta2qiVhCJO"
      }
    },
    {
      "cell_type": "code",
      "execution_count": null,
      "metadata": {
        "id": "4VbHiwrlglES"
      },
      "outputs": [],
      "source": [
        "import requests\n",
        "def max_value():\n",
        "  '''\n",
        "  Возвращает название валюты (поле ‘Name’) с максимальным значением курса\n",
        "  с помощью сервиса https://www.cbr-xml-daily.ru/daily_json.js\n",
        "  '''\n",
        "  r = requests.get('https://www.cbr-xml-daily.ru/daily_json.js')\n",
        "  data_dict = r.json()['Valute']\n",
        "  return max(data_dict.items(), key=lambda x: x[1]['Value'])[1]['Name']"
      ]
    },
    {
      "cell_type": "code",
      "source": [
        "max_value()\n"
      ],
      "metadata": {
        "colab": {
          "base_uri": "https://localhost:8080/",
          "height": 35
        },
        "id": "eVuc7RlEkjFw",
        "outputId": "de75c1fe-18e6-4b76-f898-7fce187ae694"
      },
      "execution_count": null,
      "outputs": [
        {
          "output_type": "execute_result",
          "data": {
            "application/vnd.google.colaboratory.intrinsic+json": {
              "type": "string"
            },
            "text/plain": [
              "'СДР (специальные права заимствования)'"
            ]
          },
          "metadata": {},
          "execution_count": 20
        }
      ]
    },
    {
      "cell_type": "markdown",
      "source": [
        "**Задание 2**\n",
        "\n",
        "Добавьте в класс Rate параметр diff (со значениями True или False), который в случае значения True в методах курсов валют (eur, usd итд) будет возвращать не курс валюты, а изменение по сравнению в прошлым значением. Считайте, self.diff будет принимать значение True только при возврате значения курса. При отображении всей информации о валюте он не используется."
      ],
      "metadata": {
        "id": "8JtpPD1GnUtx"
      }
    },
    {
      "cell_type": "code",
      "source": [
        "import requests\n",
        "\n",
        "class Rate:\n",
        "    def __init__(self, diff=False, format='value'):\n",
        "        self.format = format\n",
        "        self.diff = diff\n",
        "    \n",
        "    def exchange_rates(self):\n",
        "        \"\"\"\n",
        "        Возвращает ответ сервиса с информацией о валютах в виде:\n",
        "        \n",
        "        {\n",
        "            'AMD': {\n",
        "                'CharCode': 'AMD',\n",
        "                'ID': 'R01060',\n",
        "                'Name': 'Армянских драмов',\n",
        "                'Nominal': 100,\n",
        "                'NumCode': '051',\n",
        "                'Previous': 14.103,\n",
        "                'Value': 14.0879\n",
        "                },\n",
        "            ...\n",
        "        }\n",
        "        \"\"\"\n",
        "        r = requests.get('https://www.cbr-xml-daily.ru/daily_json.js')\n",
        "        return r.json()['Valute']\n",
        "    \n",
        "    def make_format(self, currency):\n",
        "        \"\"\"\n",
        "        Возвращает информацию о валюте currency в двух вариантах:\n",
        "        - полная информация о валюте при self.format = 'full':\n",
        "        Rate('full').make_format('EUR')\n",
        "        {\n",
        "            'CharCode': 'EUR',\n",
        "            'ID': 'R01239',\n",
        "            'Name': 'Евро',\n",
        "            'Nominal': 1,\n",
        "            'NumCode': '978',\n",
        "            'Previous': 79.6765,\n",
        "            'Value': 79.4966\n",
        "        }\n",
        "        \n",
        "        Rate('value').make_format('EUR')\n",
        "        79.4966\n",
        "        \n",
        "        Во втором случае, при указании diff == True \n",
        "        выводится изменение по сравнению в прошлым значением \n",
        "        \"\"\"\n",
        "        response = self.exchange_rates()\n",
        "        \n",
        "        if currency in response:\n",
        "            if self.format == 'full':\n",
        "                return response[currency]\n",
        "            \n",
        "            if self.format == 'value':\n",
        "                if self.diff:\n",
        "                    return response[currency]['Value'] - response[currency]['Previous']\n",
        "                else:    \n",
        "                    return response[currency]['Value']\n",
        "        \n",
        "        return 'Error'\n",
        "    \n",
        "    def eur(self):\n",
        "        \"\"\"Возвращает курс евро на сегодня в формате self.format\"\"\"\n",
        "        return self.make_format('EUR')\n",
        "    \n",
        "    def usd(self):\n",
        "        \"\"\"Возвращает курс доллара на сегодня в формате self.format\"\"\"\n",
        "        return self.make_format('USD')\n",
        "\n",
        "    def AZN(self):\n",
        "        \"\"\"Возвращает курс азербайджанского маната на сегодня в формате self.format\"\"\"\n",
        "        return self.make_format('AZN')"
      ],
      "metadata": {
        "id": "0ImkelsvnT1N"
      },
      "execution_count": null,
      "outputs": []
    },
    {
      "cell_type": "code",
      "source": [
        "a = Rate(diff=True)"
      ],
      "metadata": {
        "id": "yMCE-EIOn686"
      },
      "execution_count": null,
      "outputs": []
    },
    {
      "cell_type": "code",
      "source": [
        "a.eur()"
      ],
      "metadata": {
        "colab": {
          "base_uri": "https://localhost:8080/"
        },
        "id": "GKTsKEK2oASJ",
        "outputId": "8d7c9a94-8410-424d-ae59-75e7a5a809f9"
      },
      "execution_count": null,
      "outputs": [
        {
          "output_type": "execute_result",
          "data": {
            "text/plain": [
              "0.16190000000000282"
            ]
          },
          "metadata": {},
          "execution_count": 3
        }
      ]
    },
    {
      "cell_type": "code",
      "source": [
        "b = Rate(format='full',diff=True)"
      ],
      "metadata": {
        "id": "KYV4f3fooFQm"
      },
      "execution_count": null,
      "outputs": []
    },
    {
      "cell_type": "code",
      "source": [
        "b.eur()"
      ],
      "metadata": {
        "colab": {
          "base_uri": "https://localhost:8080/"
        },
        "id": "M21G3PJ2oI8C",
        "outputId": "ea171563-41f8-4315-b986-fe2ed3644a75"
      },
      "execution_count": null,
      "outputs": [
        {
          "output_type": "execute_result",
          "data": {
            "text/plain": [
              "{'ID': 'R01239',\n",
              " 'NumCode': '978',\n",
              " 'CharCode': 'EUR',\n",
              " 'Nominal': 1,\n",
              " 'Name': 'Евро',\n",
              " 'Value': 60.8571,\n",
              " 'Previous': 60.6952}"
            ]
          },
          "metadata": {},
          "execution_count": 5
        }
      ]
    },
    {
      "cell_type": "code",
      "source": [
        "c = Rate()"
      ],
      "metadata": {
        "id": "vt-9I1sNoL98"
      },
      "execution_count": null,
      "outputs": []
    },
    {
      "cell_type": "code",
      "source": [
        "c.usd()"
      ],
      "metadata": {
        "colab": {
          "base_uri": "https://localhost:8080/"
        },
        "id": "VByHQ-GroYZg",
        "outputId": "3bc72489-bbd4-4ee6-f605-e0d9f828c9e4"
      },
      "execution_count": null,
      "outputs": [
        {
          "output_type": "execute_result",
          "data": {
            "text/plain": [
              "60.4696"
            ]
          },
          "metadata": {},
          "execution_count": 7
        }
      ]
    }
  ]
}